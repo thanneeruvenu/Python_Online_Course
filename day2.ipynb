{
  "nbformat": 4,
  "nbformat_minor": 0,
  "metadata": {
    "colab": {
      "name": "day2.ipynb",
      "provenance": [],
      "collapsed_sections": [],
      "authorship_tag": "ABX9TyMQCuakQHPhp3iCrlgOVKuH",
      "include_colab_link": true
    },
    "kernelspec": {
      "name": "python3",
      "display_name": "Python 3"
    }
  },
  "cells": [
    {
      "cell_type": "markdown",
      "metadata": {
        "id": "view-in-github",
        "colab_type": "text"
      },
      "source": [
        "<a href=\"https://colab.research.google.com/github/thanneeruvenu/Python_Online_Course/blob/master/day2.ipynb\" target=\"_parent\"><img src=\"https://colab.research.google.com/assets/colab-badge.svg\" alt=\"Open In Colab\"/></a>"
      ]
    },
    {
      "cell_type": "code",
      "metadata": {
        "id": "eVies6kxWpQa",
        "colab_type": "code",
        "colab": {
          "base_uri": "https://localhost:8080/",
          "height": 189
        },
        "outputId": "53e07b96-353a-4c4e-8d71-23b6dff781a9"
      },
      "source": [
        "a,b,c,d,e,f = 10,11.5,\"text\",'a','12',\"134.99\" \n",
        "\n",
        "a1 = int(a) \n",
        "print(type(a1), a1) # output is 10 and type is int \n",
        "\n",
        "a2 = float(a) \n",
        "print(type(a2), a2) # output is 10.0 and type is float\n",
        "\n",
        "a3 = str(a) \n",
        "print(type(a3), a3) # output is 10 and type is str\n",
        "\n",
        "b1 = int(b) \n",
        "print(type(b1), b1) # output is 11 and type is int\n",
        "\n",
        "b2 = float(b)\n",
        "print(type(b2), b2) # output is 11.5 and type is float\n",
        "\n",
        "b3 = str(b)\n",
        "print(type(b3), b3) # output is 11.5 and type is str\n",
        "\n",
        "#c1 = int(c) # ValueError: invalid literal for int() with base 10: 'text'\n",
        "#print(type(c1), c1) # NameError: name 'c1' is not defined if c1 is not declared\n",
        "\n",
        "#c2 = float(c) #ValueError: could not convert string to float: 'text'\n",
        "\n",
        "c3 = str(c) \n",
        "print(type(c3), c3) # output is text and type is str\n",
        "\n",
        "#d1 = int(d) # ValueError: invalid literal for int() with base 10: 'a'\n",
        "\n",
        "#d2 = float(d) # ValueError: could not convert string to float: 'a'\n",
        "\n",
        "e1 = int(e)\n",
        "print(type(e1), e1) # output is 12 and type is int\n",
        "\n",
        "e2 = float(e)\n",
        "print(type(e2), e2) # output is 12.0 and type is float\n",
        "\n",
        "#f1 = int(f) # ValueError: invalid literal for int() with base 10: '134.99'\n",
        "\n",
        "f2 = float(f)\n",
        "print(type(f2), f2) # output is 134.99 and type is float\n",
        "\n",
        "\n"
      ],
      "execution_count": 35,
      "outputs": [
        {
          "output_type": "stream",
          "text": [
            "<class 'int'> 10\n",
            "<class 'float'> 10.0\n",
            "<class 'str'> 10\n",
            "<class 'int'> 11\n",
            "<class 'float'> 11.5\n",
            "<class 'str'> 11.5\n",
            "<class 'str'> text\n",
            "<class 'int'> 12\n",
            "<class 'float'> 12.0\n",
            "<class 'float'> 134.99\n"
          ],
          "name": "stdout"
        }
      ]
    },
    {
      "cell_type": "markdown",
      "metadata": {
        "id": "OkZajol_e0kl",
        "colab_type": "text"
      },
      "source": [
        ""
      ]
    }
  ]
}